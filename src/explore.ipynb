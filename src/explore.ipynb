{
    "cells": [
        {
            "cell_type": "markdown",
            "metadata": {},
            "source": [
                "# Table of content\n",
                "\n",
                "1. [Problem statement and data collection](##1-problem-statement-and-data-collection)  \n",
                "2. [Exploration and data cleaning](##2-Exploration-and-data-cleaning)\n",
                "3. [Split train and test](##3-Split-train-and-test)\n",
                "4. [Build a naive bayes model](##4-Build-a-naive-bayes-model)\n",
                "    - [4.1 GaussianNB](###4.1-GaussianNB)\n",
                "    - [4.2 MultinomialNB](###4.2-MultinomialNB)\n",
                "    - [4.3 BernoulliNB](###4.3-BernoulliNB)\n",
                "5. [Optimise the previous model](##5-Optimise-the-previous-model)\n",
                "6. [Explore other alternatives](##6-Explore-other-alternatives)"
            ]
        },
        {
            "cell_type": "markdown",
            "metadata": {},
            "source": [
                "--------------------------------------------------------------------------------------------------------------------------------------------------------------------------------"
            ]
        },
        {
            "cell_type": "markdown",
            "metadata": {},
            "source": [
                "## 1. Problem statement and data collection"
            ]
        },
        {
            "cell_type": "code",
            "execution_count": 43,
            "metadata": {},
            "outputs": [],
            "source": [
                "import pandas as pd\n",
                "import numpy as np\n",
                "import matplotlib.pyplot as plt \n",
                "import seaborn as sns\n",
                "import json\n",
                "from sklearn.model_selection import train_test_split\n",
                "import pickle\n",
                "from pickle import dump\n",
                "import warnings\n",
                "def warn(*args, **kwargs):\n",
                "    pass\n",
                "warnings.warn = warn\n",
                "warnings.filterwarnings(\"ignore\", category=FutureWarning)"
            ]
        },
        {
            "cell_type": "code",
            "execution_count": 44,
            "metadata": {},
            "outputs": [
                {
                    "data": {
                        "text/html": [
                            "<div>\n",
                            "<style scoped>\n",
                            "    .dataframe tbody tr th:only-of-type {\n",
                            "        vertical-align: middle;\n",
                            "    }\n",
                            "\n",
                            "    .dataframe tbody tr th {\n",
                            "        vertical-align: top;\n",
                            "    }\n",
                            "\n",
                            "    .dataframe thead th {\n",
                            "        text-align: right;\n",
                            "    }\n",
                            "</style>\n",
                            "<table border=\"1\" class=\"dataframe\">\n",
                            "  <thead>\n",
                            "    <tr style=\"text-align: right;\">\n",
                            "      <th></th>\n",
                            "      <th>package_name</th>\n",
                            "      <th>review</th>\n",
                            "      <th>polarity</th>\n",
                            "    </tr>\n",
                            "  </thead>\n",
                            "  <tbody>\n",
                            "    <tr>\n",
                            "      <th>0</th>\n",
                            "      <td>com.facebook.katana</td>\n",
                            "      <td>privacy at least put some option appear offli...</td>\n",
                            "      <td>0</td>\n",
                            "    </tr>\n",
                            "    <tr>\n",
                            "      <th>1</th>\n",
                            "      <td>com.facebook.katana</td>\n",
                            "      <td>messenger issues ever since the last update, ...</td>\n",
                            "      <td>0</td>\n",
                            "    </tr>\n",
                            "    <tr>\n",
                            "      <th>2</th>\n",
                            "      <td>com.facebook.katana</td>\n",
                            "      <td>profile any time my wife or anybody has more ...</td>\n",
                            "      <td>0</td>\n",
                            "    </tr>\n",
                            "    <tr>\n",
                            "      <th>3</th>\n",
                            "      <td>com.facebook.katana</td>\n",
                            "      <td>the new features suck for those of us who don...</td>\n",
                            "      <td>0</td>\n",
                            "    </tr>\n",
                            "    <tr>\n",
                            "      <th>4</th>\n",
                            "      <td>com.facebook.katana</td>\n",
                            "      <td>forced reload on uploading pic on replying co...</td>\n",
                            "      <td>0</td>\n",
                            "    </tr>\n",
                            "  </tbody>\n",
                            "</table>\n",
                            "</div>"
                        ],
                        "text/plain": [
                            "          package_name                                             review  \\\n",
                            "0  com.facebook.katana   privacy at least put some option appear offli...   \n",
                            "1  com.facebook.katana   messenger issues ever since the last update, ...   \n",
                            "2  com.facebook.katana   profile any time my wife or anybody has more ...   \n",
                            "3  com.facebook.katana   the new features suck for those of us who don...   \n",
                            "4  com.facebook.katana   forced reload on uploading pic on replying co...   \n",
                            "\n",
                            "   polarity  \n",
                            "0         0  \n",
                            "1         0  \n",
                            "2         0  \n",
                            "3         0  \n",
                            "4         0  "
                        ]
                    },
                    "execution_count": 44,
                    "metadata": {},
                    "output_type": "execute_result"
                }
            ],
            "source": [
                "total_data = pd.read_csv(\"https://raw.githubusercontent.com/4GeeksAcademy/naive-bayes-project-tutorial/main/playstore_reviews.csv\")\n",
                "total_data.head()"
            ]
        },
        {
            "cell_type": "markdown",
            "metadata": {},
            "source": [
                "In this project, we aim to analyse the sentiment of a collection of reviews from the Play Store. We are working with three variables: two predictors and a dichotomous label. Of the two predictors, our primary focus is on the review text, as the classification of a comment as positive or negative depends on its content rather than the application from which it originates."
            ]
        },
        {
            "cell_type": "markdown",
            "metadata": {},
            "source": [
                "## 2. Exploration and data cleaning"
            ]
        },
        {
            "cell_type": "code",
            "execution_count": 45,
            "metadata": {},
            "outputs": [
                {
                    "data": {
                        "text/plain": [
                            "(891, 3)"
                        ]
                    },
                    "execution_count": 45,
                    "metadata": {},
                    "output_type": "execute_result"
                }
            ],
            "source": [
                "total_data.shape"
            ]
        },
        {
            "cell_type": "markdown",
            "metadata": {},
            "source": [
                "The datasframe has 891 rows, and three columns."
            ]
        },
        {
            "cell_type": "code",
            "execution_count": 46,
            "metadata": {},
            "outputs": [
                {
                    "name": "stdout",
                    "output_type": "stream",
                    "text": [
                        "<class 'pandas.core.frame.DataFrame'>\n",
                        "RangeIndex: 891 entries, 0 to 890\n",
                        "Data columns (total 3 columns):\n",
                        " #   Column        Non-Null Count  Dtype \n",
                        "---  ------        --------------  ----- \n",
                        " 0   package_name  891 non-null    object\n",
                        " 1   review        891 non-null    object\n",
                        " 2   polarity      891 non-null    int64 \n",
                        "dtypes: int64(1), object(2)\n",
                        "memory usage: 21.0+ KB\n"
                    ]
                }
            ],
            "source": [
                "total_data.info()"
            ]
        },
        {
            "cell_type": "markdown",
            "metadata": {},
            "source": [
                "After a quick analysis we verify that there are not nulls in the datframe."
            ]
        },
        {
            "cell_type": "code",
            "execution_count": 47,
            "metadata": {},
            "outputs": [
                {
                    "data": {
                        "text/html": [
                            "<div>\n",
                            "<style scoped>\n",
                            "    .dataframe tbody tr th:only-of-type {\n",
                            "        vertical-align: middle;\n",
                            "    }\n",
                            "\n",
                            "    .dataframe tbody tr th {\n",
                            "        vertical-align: top;\n",
                            "    }\n",
                            "\n",
                            "    .dataframe thead th {\n",
                            "        text-align: right;\n",
                            "    }\n",
                            "</style>\n",
                            "<table border=\"1\" class=\"dataframe\">\n",
                            "  <thead>\n",
                            "    <tr style=\"text-align: right;\">\n",
                            "      <th></th>\n",
                            "      <th>review</th>\n",
                            "      <th>polarity</th>\n",
                            "    </tr>\n",
                            "  </thead>\n",
                            "  <tbody>\n",
                            "    <tr>\n",
                            "      <th>0</th>\n",
                            "      <td>privacy at least put some option appear offli...</td>\n",
                            "      <td>0</td>\n",
                            "    </tr>\n",
                            "    <tr>\n",
                            "      <th>1</th>\n",
                            "      <td>messenger issues ever since the last update, ...</td>\n",
                            "      <td>0</td>\n",
                            "    </tr>\n",
                            "    <tr>\n",
                            "      <th>2</th>\n",
                            "      <td>profile any time my wife or anybody has more ...</td>\n",
                            "      <td>0</td>\n",
                            "    </tr>\n",
                            "    <tr>\n",
                            "      <th>3</th>\n",
                            "      <td>the new features suck for those of us who don...</td>\n",
                            "      <td>0</td>\n",
                            "    </tr>\n",
                            "    <tr>\n",
                            "      <th>4</th>\n",
                            "      <td>forced reload on uploading pic on replying co...</td>\n",
                            "      <td>0</td>\n",
                            "    </tr>\n",
                            "  </tbody>\n",
                            "</table>\n",
                            "</div>"
                        ],
                        "text/plain": [
                            "                                              review  polarity\n",
                            "0   privacy at least put some option appear offli...         0\n",
                            "1   messenger issues ever since the last update, ...         0\n",
                            "2   profile any time my wife or anybody has more ...         0\n",
                            "3   the new features suck for those of us who don...         0\n",
                            "4   forced reload on uploading pic on replying co...         0"
                        ]
                    },
                    "execution_count": 47,
                    "metadata": {},
                    "output_type": "execute_result"
                }
            ],
            "source": [
                "total_data.drop([\"package_name\"], axis = 1, inplace = True)\n",
                "total_data.head()"
            ]
        },
        {
            "cell_type": "markdown",
            "metadata": {},
            "source": [
                "We remove the *package_name* variable, as we are only interested in the reviews copy to analyse the sentiment."
            ]
        },
        {
            "cell_type": "code",
            "execution_count": 48,
            "metadata": {},
            "outputs": [],
            "source": [
                "total_data[\"review\"] = total_data[\"review\"].str.strip().str.lower()"
            ]
        },
        {
            "cell_type": "markdown",
            "metadata": {},
            "source": [
                "Afterwards, to be able to analyse the text data we eliminate the spaces and we convert all text to lower case. "
            ]
        },
        {
            "cell_type": "markdown",
            "metadata": {},
            "source": [
                "## 3. Split train and test"
            ]
        },
        {
            "cell_type": "code",
            "execution_count": 49,
            "metadata": {},
            "outputs": [
                {
                    "data": {
                        "text/plain": [
                            "331    just did the latest update on viber and yet ag...\n",
                            "733    keeps crashing it only works well in extreme d...\n",
                            "382    the fail boat has arrived the 6.0 version is t...\n",
                            "704    superfast, just as i remember it ! opera mini ...\n",
                            "813    installed and immediately deleted this crap i ...\n",
                            "Name: review, dtype: object"
                        ]
                    },
                    "execution_count": 49,
                    "metadata": {},
                    "output_type": "execute_result"
                }
            ],
            "source": [
                "x = total_data[\"review\"]\n",
                "y = total_data[\"polarity\"]\n",
                "x_train, x_test, y_train, y_test = train_test_split(x, y, test_size = 0.2, random_state = 42)\n",
                "\n",
                "\n",
                "x_train.head()"
            ]
        },
        {
            "cell_type": "markdown",
            "metadata": {},
            "source": [
                "## 4. Build a naive bayes model"
            ]
        },
        {
            "cell_type": "markdown",
            "metadata": {},
            "source": [
                "The first step is to transform the text into a word count matrix."
            ]
        },
        {
            "cell_type": "code",
            "execution_count": 50,
            "metadata": {},
            "outputs": [],
            "source": [
                "from sklearn.feature_extraction.text import CountVectorizer\n",
                "\n",
                "vec_model = CountVectorizer(stop_words = \"english\")\n",
                "x_train_vec = vec_model.fit_transform(x_train).toarray()\n",
                "x_test_vec = vec_model.transform(x_test).toarray()"
            ]
        },
        {
            "cell_type": "markdown",
            "metadata": {},
            "source": [
                "### 4.1 GaussianNB"
            ]
        },
        {
            "cell_type": "code",
            "execution_count": 51,
            "metadata": {},
            "outputs": [
                {
                    "name": "stdout",
                    "output_type": "stream",
                    "text": [
                        "Accuracy: [0.9859550561797753]\n"
                    ]
                }
            ],
            "source": [
                "from sklearn.naive_bayes import GaussianNB\n",
                "from sklearn.metrics import accuracy_score\n",
                "from pickle import dump\n",
                "\n",
                "accuracy_results = []\n",
                "\n",
                "model = GaussianNB()\n",
                "\n",
                "model.fit(x_train_vec, y_train)\n",
                "y_pred = model.predict(x_train_vec)\n",
                "\n",
                "accuracy = accuracy_score(y_train, y_pred)\n",
                "accuracy_results.append(accuracy_score(y_train, y_pred))\n",
                "\n",
                "print(\"Accuracy:\", accuracy_results)"
            ]
        },
        {
            "cell_type": "code",
            "execution_count": 52,
            "metadata": {},
            "outputs": [
                {
                    "name": "stdout",
                    "output_type": "stream",
                    "text": [
                        "Test accuracy: 0.8044692737430168\n"
                    ]
                }
            ],
            "source": [
                "model = GaussianNB()\n",
                "\n",
                "model.fit(x_train_vec, y_train)\n",
                "y_pred_test = model.predict(x_test_vec)\n",
                "\n",
                "accuracy = accuracy_score(y_test, y_pred_test)\n",
                "print(\"Test accuracy:\", accuracy)"
            ]
        },
        {
            "cell_type": "markdown",
            "metadata": {},
            "source": [
                "We trained a GaussianNB model, the train accuracy model reaches over 98.5%, and the test 80.4%. This is a good permorming model wich parameters have not been optimised yet. "
            ]
        },
        {
            "cell_type": "markdown",
            "metadata": {},
            "source": [
                "**SAVING THE MODEL**:"
            ]
        },
        {
            "cell_type": "code",
            "execution_count": 53,
            "metadata": {},
            "outputs": [],
            "source": [
                "dump(model, open(\"/workspaces/E-Pablos-Naive-Bayes-Reviews/models/naive_bayes_GaussianNB.sav\", \"wb\"))"
            ]
        },
        {
            "cell_type": "markdown",
            "metadata": {},
            "source": [
                "### 4.2 MultinomialNB"
            ]
        },
        {
            "cell_type": "code",
            "execution_count": 54,
            "metadata": {},
            "outputs": [
                {
                    "name": "stdout",
                    "output_type": "stream",
                    "text": [
                        "Accuracy: [0.9606741573033708]\n"
                    ]
                }
            ],
            "source": [
                "from sklearn.naive_bayes import MultinomialNB\n",
                "from sklearn.metrics import accuracy_score\n",
                "\n",
                "accuracy_results = []\n",
                "\n",
                "model = MultinomialNB(\n",
                "    alpha=1.0,\n",
                "    fit_prior=True,\n",
                ")\n",
                "\n",
                "model.fit(x_train_vec, y_train)\n",
                "y_pred = model.predict(x_train_vec)\n",
                "\n",
                "accuracy = accuracy_score(y_train, y_pred)\n",
                "accuracy_results.append(accuracy_score(y_train, y_pred))\n",
                "\n",
                "print(\"Accuracy:\", accuracy_results)"
            ]
        },
        {
            "cell_type": "code",
            "execution_count": 55,
            "metadata": {},
            "outputs": [
                {
                    "name": "stdout",
                    "output_type": "stream",
                    "text": [
                        "Test accuracy: 0.8156424581005587\n"
                    ]
                }
            ],
            "source": [
                "model = MultinomialNB(\n",
                "    alpha=1.0,\n",
                "    fit_prior=True,\n",
                ")\n",
                "\n",
                "\n",
                "model.fit(x_train_vec, y_train)\n",
                "y_pred_test = model.predict(x_test_vec)\n",
                "\n",
                "accuracy = accuracy_score(y_test, y_pred_test)\n",
                "print(\"Test accuracy:\", accuracy)"
            ]
        },
        {
            "cell_type": "markdown",
            "metadata": {},
            "source": [
                "After training the model with Multinomial NB, we observed a training accuracy of over 96% and a test accuracy of 81.5%. Although the train accuracy dropped 2.5%, we can see that the test accuracy improve by 1%."
            ]
        },
        {
            "cell_type": "markdown",
            "metadata": {},
            "source": [
                "**SAVING THE MODEL**:"
            ]
        },
        {
            "cell_type": "code",
            "execution_count": 56,
            "metadata": {},
            "outputs": [],
            "source": [
                "dump(model, open(\"/workspaces/E-Pablos-Naive-Bayes-Reviews/models/naive_bayes_MultinomialNB.sav\", \"wb\"))"
            ]
        },
        {
            "cell_type": "markdown",
            "metadata": {},
            "source": [
                "### 4.3 BernoulliNB"
            ]
        },
        {
            "cell_type": "code",
            "execution_count": 57,
            "metadata": {},
            "outputs": [
                {
                    "name": "stdout",
                    "output_type": "stream",
                    "text": [
                        "Accuracy: [0.9199438202247191]\n"
                    ]
                }
            ],
            "source": [
                "from sklearn.naive_bayes import BernoulliNB\n",
                "from sklearn.metrics import accuracy_score\n",
                "\n",
                "accuracy_results = []\n",
                "\n",
                "model = BernoulliNB(\n",
                "    alpha=1.0,\n",
                "    binarize=0.0,\n",
                ")\n",
                "\n",
                "model.fit(x_train_vec, y_train)\n",
                "y_pred = model.predict(x_train_vec)\n",
                "\n",
                "accuracy = accuracy_score(y_train, y_pred)\n",
                "accuracy_results.append(accuracy_score(y_train, y_pred))\n",
                "\n",
                "print(\"Accuracy:\", accuracy_results)"
            ]
        },
        {
            "cell_type": "code",
            "execution_count": 58,
            "metadata": {},
            "outputs": [
                {
                    "name": "stdout",
                    "output_type": "stream",
                    "text": [
                        "Test accuracy: 0.770949720670391\n"
                    ]
                }
            ],
            "source": [
                "model = BernoulliNB(\n",
                "    alpha=1.0,\n",
                "    binarize=0.0,\n",
                ")\n",
                "model.fit(x_train_vec, y_train)\n",
                "y_pred_test = model.predict(x_test_vec)\n",
                "\n",
                "accuracy = accuracy_score(y_test, y_pred_test)\n",
                "print(\"Test accuracy:\", accuracy)"
            ]
        },
        {
            "cell_type": "markdown",
            "metadata": {},
            "source": [
                "When training the model with BernoulliNB, we realised that is not the best approach for this model, as the train accuracy drops to 91.9% and the test accuracy to only 77%. "
            ]
        },
        {
            "cell_type": "markdown",
            "metadata": {},
            "source": [
                "**SAVING THE MODEL**:"
            ]
        },
        {
            "cell_type": "code",
            "execution_count": 59,
            "metadata": {},
            "outputs": [],
            "source": [
                "dump(model, open(\"/workspaces/E-Pablos-Naive-Bayes-Reviews/models/naive_bayes_BernoulliNB.sav\", \"wb\"))"
            ]
        },
        {
            "cell_type": "markdown",
            "metadata": {},
            "source": [
                "## 5. Optimise the previous model"
            ]
        },
        {
            "cell_type": "markdown",
            "metadata": {},
            "source": [
                "We use a **GridSearch** to opmise the previous model, using MultinomialNB."
            ]
        },
        {
            "cell_type": "code",
            "execution_count": 60,
            "metadata": {},
            "outputs": [
                {
                    "name": "stdout",
                    "output_type": "stream",
                    "text": [
                        "Fitting 5 folds for each of 10 candidates, totalling 50 fits\n",
                        "[CV] END ..........................alpha=0.1, fit_prior=True; total time=   0.0s\n",
                        "[CV] END ..........................alpha=0.1, fit_prior=True; total time=   0.1s\n"
                    ]
                },
                {
                    "name": "stdout",
                    "output_type": "stream",
                    "text": [
                        "[CV] END ..........................alpha=0.1, fit_prior=True; total time=   0.0s\n",
                        "[CV] END ..........................alpha=0.1, fit_prior=True; total time=   0.1s\n",
                        "[CV] END ..........................alpha=0.1, fit_prior=True; total time=   0.0s\n",
                        "[CV] END .........................alpha=0.1, fit_prior=False; total time=   0.0s\n",
                        "[CV] END .........................alpha=0.1, fit_prior=False; total time=   0.0s\n",
                        "[CV] END .........................alpha=0.1, fit_prior=False; total time=   0.1s\n",
                        "[CV] END .........................alpha=0.1, fit_prior=False; total time=   0.0s\n",
                        "[CV] END ..........................alpha=0.5, fit_prior=True; total time=   0.0s\n",
                        "[CV] END ..........................alpha=0.5, fit_prior=True; total time=   0.0s\n",
                        "[CV] END .........................alpha=0.1, fit_prior=False; total time=   0.1s\n",
                        "[CV] END ..........................alpha=0.5, fit_prior=True; total time=   0.0s\n",
                        "[CV] END ..........................alpha=0.5, fit_prior=True; total time=   0.0s\n",
                        "[CV] END .........................alpha=0.5, fit_prior=False; total time=   0.0s\n",
                        "[CV] END ..........................alpha=0.5, fit_prior=True; total time=   0.0s\n",
                        "[CV] END .........................alpha=0.5, fit_prior=False; total time=   0.0s\n",
                        "[CV] END .........................alpha=0.5, fit_prior=False; total time=   0.0s\n",
                        "[CV] END .........................alpha=0.5, fit_prior=False; total time=   0.0s\n",
                        "[CV] END .........................alpha=0.5, fit_prior=False; total time=   0.0s\n",
                        "[CV] END ..........................alpha=1.0, fit_prior=True; total time=   0.0s\n",
                        "[CV] END ..........................alpha=1.0, fit_prior=True; total time=   0.0s\n",
                        "[CV] END ..........................alpha=1.0, fit_prior=True; total time=   0.0s\n",
                        "[CV] END .........................alpha=1.0, fit_prior=False; total time=   0.0s\n",
                        "[CV] END ..........................alpha=1.0, fit_prior=True; total time=   0.0s\n",
                        "[CV] END .........................alpha=1.0, fit_prior=False; total time=   0.0s\n",
                        "[CV] END .........................alpha=1.0, fit_prior=False; total time=   0.0s\n",
                        "[CV] END ..........................alpha=1.0, fit_prior=True; total time=   0.0s\n",
                        "[CV] END .........................alpha=1.0, fit_prior=False; total time=   0.0s\n",
                        "[CV] END ..........................alpha=2.0, fit_prior=True; total time=   0.0s\n",
                        "[CV] END .........................alpha=1.0, fit_prior=False; total time=   0.0s\n",
                        "[CV] END ..........................alpha=2.0, fit_prior=True; total time=   0.0s\n",
                        "[CV] END ..........................alpha=2.0, fit_prior=True; total time=   0.0s\n",
                        "[CV] END ..........................alpha=2.0, fit_prior=True; total time=   0.0s\n",
                        "[CV] END ..........................alpha=2.0, fit_prior=True; total time=   0.0s\n",
                        "[CV] END .........................alpha=2.0, fit_prior=False; total time=   0.0s\n",
                        "[CV] END .........................alpha=2.0, fit_prior=False; total time=   0.0s\n",
                        "[CV] END .........................alpha=2.0, fit_prior=False; total time=   0.0s\n",
                        "[CV] END ..........................alpha=5.0, fit_prior=True; total time=   0.0s\n",
                        "[CV] END .........................alpha=2.0, fit_prior=False; total time=   0.0s\n",
                        "[CV] END ..........................alpha=5.0, fit_prior=True; total time=   0.0s\n",
                        "[CV] END .........................alpha=2.0, fit_prior=False; total time=   0.0s\n",
                        "[CV] END ..........................alpha=5.0, fit_prior=True; total time=   0.0s\n",
                        "[CV] END ..........................alpha=5.0, fit_prior=True; total time=   0.0s\n",
                        "[CV] END ..........................alpha=5.0, fit_prior=True; total time=   0.0s\n",
                        "[CV] END .........................alpha=5.0, fit_prior=False; total time=   0.0s\n",
                        "[CV] END .........................alpha=5.0, fit_prior=False; total time=   0.0s\n",
                        "[CV] END .........................alpha=5.0, fit_prior=False; total time=   0.0s\n",
                        "[CV] END .........................alpha=5.0, fit_prior=False; total time=   0.0s\n",
                        "[CV] END .........................alpha=5.0, fit_prior=False; total time=   0.0s\n",
                        "Best parameters: {'alpha': 2.0, 'fit_prior': False}\n",
                        "Best accuracy: 0.8201812272234807\n"
                    ]
                }
            ],
            "source": [
                "from sklearn.model_selection import GridSearchCV\n",
                "\n",
                "model = model = MultinomialNB(\n",
                "    alpha=1.0,\n",
                "    fit_prior=True,\n",
                ")\n",
                "\n",
                "param_grid = {\n",
                "    'alpha': [0.1, 0.5, 1.0, 2.0, 5.0],\n",
                "    'fit_prior': [True, False]\n",
                "}\n",
                "\n",
                "\n",
                "grid_search = GridSearchCV(\n",
                "    estimator=model,\n",
                "    param_grid=param_grid,\n",
                "    scoring='accuracy',     \n",
                "    cv=5,                   \n",
                "    n_jobs=-1,              \n",
                "    verbose=2               \n",
                ")\n",
                "grid_search.fit(x_train_vec, y_train)\n",
                "\n",
                "print(\"Best parameters:\", grid_search.best_params_)\n",
                "print(\"Best accuracy:\", grid_search.best_score_)"
            ]
        },
        {
            "cell_type": "code",
            "execution_count": 61,
            "metadata": {},
            "outputs": [
                {
                    "name": "stdout",
                    "output_type": "stream",
                    "text": [
                        "Test accuracy: 0.8212290502793296\n"
                    ]
                }
            ],
            "source": [
                "best_modelo = grid_search.best_estimator_\n",
                "\n",
                "y_pred = best_modelo.predict(x_test_vec)\n",
                "print(\"Test accuracy:\", accuracy_score(y_test, y_pred))\n"
            ]
        },
        {
            "cell_type": "code",
            "execution_count": 62,
            "metadata": {},
            "outputs": [
                {
                    "name": "stdout",
                    "output_type": "stream",
                    "text": [
                        "Fitting 5 folds for each of 10 candidates, totalling 50 fits\n",
                        "[CV] END ..........................alpha=0.1, fit_prior=True; total time=   0.1s\n",
                        "[CV] END ..........................alpha=0.1, fit_prior=True; total time=   0.1s\n"
                    ]
                },
                {
                    "name": "stdout",
                    "output_type": "stream",
                    "text": [
                        "[CV] END ..........................alpha=0.1, fit_prior=True; total time=   0.0s\n",
                        "[CV] END ..........................alpha=0.1, fit_prior=True; total time=   0.0s\n",
                        "[CV] END ..........................alpha=0.1, fit_prior=True; total time=   0.0s\n",
                        "[CV] END .........................alpha=0.1, fit_prior=False; total time=   0.0s\n",
                        "[CV] END .........................alpha=0.1, fit_prior=False; total time=   0.0s\n",
                        "[CV] END .........................alpha=0.1, fit_prior=False; total time=   0.0s\n",
                        "[CV] END .........................alpha=0.1, fit_prior=False; total time=   0.0s\n",
                        "[CV] END ..........................alpha=0.5, fit_prior=True; total time=   0.0s\n",
                        "[CV] END ..........................alpha=0.5, fit_prior=True; total time=   0.0s\n",
                        "[CV] END .........................alpha=0.1, fit_prior=False; total time=   0.1s\n",
                        "[CV] END ..........................alpha=0.5, fit_prior=True; total time=   0.0s\n",
                        "[CV] END .........................alpha=0.5, fit_prior=False; total time=   0.0s\n",
                        "[CV] END .........................alpha=0.5, fit_prior=False; total time=   0.0s\n",
                        "[CV] END ..........................alpha=0.5, fit_prior=True; total time=   0.0s\n",
                        "[CV] END .........................alpha=0.5, fit_prior=False; total time=   0.0s\n",
                        "[CV] END ..........................alpha=0.5, fit_prior=True; total time=   0.0s\n",
                        "[CV] END .........................alpha=0.5, fit_prior=False; total time=   0.0s\n",
                        "[CV] END .........................alpha=0.5, fit_prior=False; total time=   0.0s\n",
                        "[CV] END ..........................alpha=1.0, fit_prior=True; total time=   0.0s\n",
                        "[CV] END ..........................alpha=1.0, fit_prior=True; total time=   0.0s\n",
                        "[CV] END .........................alpha=1.0, fit_prior=False; total time=   0.0s\n",
                        "[CV] END .........................alpha=1.0, fit_prior=False; total time=   0.0s\n",
                        "[CV] END ..........................alpha=1.0, fit_prior=True; total time=   0.1s\n",
                        "[CV] END ..........................alpha=1.0, fit_prior=True; total time=   0.0s\n",
                        "[CV] END ..........................alpha=1.0, fit_prior=True; total time=   0.0s\n",
                        "[CV] END .........................alpha=1.0, fit_prior=False; total time=   0.1s\n",
                        "[CV] END .........................alpha=1.0, fit_prior=False; total time=   0.0s\n",
                        "[CV] END ..........................alpha=2.0, fit_prior=True; total time=   0.0s\n",
                        "[CV] END .........................alpha=1.0, fit_prior=False; total time=   0.0s\n",
                        "[CV] END ..........................alpha=2.0, fit_prior=True; total time=   0.0s\n",
                        "[CV] END ..........................alpha=2.0, fit_prior=True; total time=   0.0s\n",
                        "[CV] END ..........................alpha=2.0, fit_prior=True; total time=   0.0s\n",
                        "[CV] END ..........................alpha=2.0, fit_prior=True; total time=   0.0s\n",
                        "[CV] END .........................alpha=2.0, fit_prior=False; total time=   0.0s\n",
                        "[CV] END ..........................alpha=5.0, fit_prior=True; total time=   0.0s\n",
                        "[CV] END ..........................alpha=5.0, fit_prior=True; total time=   0.0s\n",
                        "[CV] END .........................alpha=2.0, fit_prior=False; total time=   0.1s\n",
                        "[CV] END ..........................alpha=5.0, fit_prior=True; total time=   0.0s\n",
                        "[CV] END .........................alpha=2.0, fit_prior=False; total time=   0.0s\n",
                        "[CV] END ..........................alpha=5.0, fit_prior=True; total time=   0.0s\n",
                        "[CV] END .........................alpha=2.0, fit_prior=False; total time=   0.0s\n",
                        "[CV] END ..........................alpha=5.0, fit_prior=True; total time=   0.0s\n",
                        "[CV] END .........................alpha=2.0, fit_prior=False; total time=   0.0s\n",
                        "[CV] END .........................alpha=5.0, fit_prior=False; total time=   0.0s\n",
                        "[CV] END .........................alpha=5.0, fit_prior=False; total time=   0.0s\n",
                        "[CV] END .........................alpha=5.0, fit_prior=False; total time=   0.0s\n",
                        "[CV] END .........................alpha=5.0, fit_prior=False; total time=   0.0s\n",
                        "[CV] END .........................alpha=5.0, fit_prior=False; total time=   0.0s\n"
                    ]
                },
                {
                    "data": {
                        "text/html": [
                            "<style>#sk-container-id-4 {\n",
                            "  /* Definition of color scheme common for light and dark mode */\n",
                            "  --sklearn-color-text: #000;\n",
                            "  --sklearn-color-text-muted: #666;\n",
                            "  --sklearn-color-line: gray;\n",
                            "  /* Definition of color scheme for unfitted estimators */\n",
                            "  --sklearn-color-unfitted-level-0: #fff5e6;\n",
                            "  --sklearn-color-unfitted-level-1: #f6e4d2;\n",
                            "  --sklearn-color-unfitted-level-2: #ffe0b3;\n",
                            "  --sklearn-color-unfitted-level-3: chocolate;\n",
                            "  /* Definition of color scheme for fitted estimators */\n",
                            "  --sklearn-color-fitted-level-0: #f0f8ff;\n",
                            "  --sklearn-color-fitted-level-1: #d4ebff;\n",
                            "  --sklearn-color-fitted-level-2: #b3dbfd;\n",
                            "  --sklearn-color-fitted-level-3: cornflowerblue;\n",
                            "\n",
                            "  /* Specific color for light theme */\n",
                            "  --sklearn-color-text-on-default-background: var(--sg-text-color, var(--theme-code-foreground, var(--jp-content-font-color1, black)));\n",
                            "  --sklearn-color-background: var(--sg-background-color, var(--theme-background, var(--jp-layout-color0, white)));\n",
                            "  --sklearn-color-border-box: var(--sg-text-color, var(--theme-code-foreground, var(--jp-content-font-color1, black)));\n",
                            "  --sklearn-color-icon: #696969;\n",
                            "\n",
                            "  @media (prefers-color-scheme: dark) {\n",
                            "    /* Redefinition of color scheme for dark theme */\n",
                            "    --sklearn-color-text-on-default-background: var(--sg-text-color, var(--theme-code-foreground, var(--jp-content-font-color1, white)));\n",
                            "    --sklearn-color-background: var(--sg-background-color, var(--theme-background, var(--jp-layout-color0, #111)));\n",
                            "    --sklearn-color-border-box: var(--sg-text-color, var(--theme-code-foreground, var(--jp-content-font-color1, white)));\n",
                            "    --sklearn-color-icon: #878787;\n",
                            "  }\n",
                            "}\n",
                            "\n",
                            "#sk-container-id-4 {\n",
                            "  color: var(--sklearn-color-text);\n",
                            "}\n",
                            "\n",
                            "#sk-container-id-4 pre {\n",
                            "  padding: 0;\n",
                            "}\n",
                            "\n",
                            "#sk-container-id-4 input.sk-hidden--visually {\n",
                            "  border: 0;\n",
                            "  clip: rect(1px 1px 1px 1px);\n",
                            "  clip: rect(1px, 1px, 1px, 1px);\n",
                            "  height: 1px;\n",
                            "  margin: -1px;\n",
                            "  overflow: hidden;\n",
                            "  padding: 0;\n",
                            "  position: absolute;\n",
                            "  width: 1px;\n",
                            "}\n",
                            "\n",
                            "#sk-container-id-4 div.sk-dashed-wrapped {\n",
                            "  border: 1px dashed var(--sklearn-color-line);\n",
                            "  margin: 0 0.4em 0.5em 0.4em;\n",
                            "  box-sizing: border-box;\n",
                            "  padding-bottom: 0.4em;\n",
                            "  background-color: var(--sklearn-color-background);\n",
                            "}\n",
                            "\n",
                            "#sk-container-id-4 div.sk-container {\n",
                            "  /* jupyter's `normalize.less` sets `[hidden] { display: none; }`\n",
                            "     but bootstrap.min.css set `[hidden] { display: none !important; }`\n",
                            "     so we also need the `!important` here to be able to override the\n",
                            "     default hidden behavior on the sphinx rendered scikit-learn.org.\n",
                            "     See: https://github.com/scikit-learn/scikit-learn/issues/21755 */\n",
                            "  display: inline-block !important;\n",
                            "  position: relative;\n",
                            "}\n",
                            "\n",
                            "#sk-container-id-4 div.sk-text-repr-fallback {\n",
                            "  display: none;\n",
                            "}\n",
                            "\n",
                            "div.sk-parallel-item,\n",
                            "div.sk-serial,\n",
                            "div.sk-item {\n",
                            "  /* draw centered vertical line to link estimators */\n",
                            "  background-image: linear-gradient(var(--sklearn-color-text-on-default-background), var(--sklearn-color-text-on-default-background));\n",
                            "  background-size: 2px 100%;\n",
                            "  background-repeat: no-repeat;\n",
                            "  background-position: center center;\n",
                            "}\n",
                            "\n",
                            "/* Parallel-specific style estimator block */\n",
                            "\n",
                            "#sk-container-id-4 div.sk-parallel-item::after {\n",
                            "  content: \"\";\n",
                            "  width: 100%;\n",
                            "  border-bottom: 2px solid var(--sklearn-color-text-on-default-background);\n",
                            "  flex-grow: 1;\n",
                            "}\n",
                            "\n",
                            "#sk-container-id-4 div.sk-parallel {\n",
                            "  display: flex;\n",
                            "  align-items: stretch;\n",
                            "  justify-content: center;\n",
                            "  background-color: var(--sklearn-color-background);\n",
                            "  position: relative;\n",
                            "}\n",
                            "\n",
                            "#sk-container-id-4 div.sk-parallel-item {\n",
                            "  display: flex;\n",
                            "  flex-direction: column;\n",
                            "}\n",
                            "\n",
                            "#sk-container-id-4 div.sk-parallel-item:first-child::after {\n",
                            "  align-self: flex-end;\n",
                            "  width: 50%;\n",
                            "}\n",
                            "\n",
                            "#sk-container-id-4 div.sk-parallel-item:last-child::after {\n",
                            "  align-self: flex-start;\n",
                            "  width: 50%;\n",
                            "}\n",
                            "\n",
                            "#sk-container-id-4 div.sk-parallel-item:only-child::after {\n",
                            "  width: 0;\n",
                            "}\n",
                            "\n",
                            "/* Serial-specific style estimator block */\n",
                            "\n",
                            "#sk-container-id-4 div.sk-serial {\n",
                            "  display: flex;\n",
                            "  flex-direction: column;\n",
                            "  align-items: center;\n",
                            "  background-color: var(--sklearn-color-background);\n",
                            "  padding-right: 1em;\n",
                            "  padding-left: 1em;\n",
                            "}\n",
                            "\n",
                            "\n",
                            "/* Toggleable style: style used for estimator/Pipeline/ColumnTransformer box that is\n",
                            "clickable and can be expanded/collapsed.\n",
                            "- Pipeline and ColumnTransformer use this feature and define the default style\n",
                            "- Estimators will overwrite some part of the style using the `sk-estimator` class\n",
                            "*/\n",
                            "\n",
                            "/* Pipeline and ColumnTransformer style (default) */\n",
                            "\n",
                            "#sk-container-id-4 div.sk-toggleable {\n",
                            "  /* Default theme specific background. It is overwritten whether we have a\n",
                            "  specific estimator or a Pipeline/ColumnTransformer */\n",
                            "  background-color: var(--sklearn-color-background);\n",
                            "}\n",
                            "\n",
                            "/* Toggleable label */\n",
                            "#sk-container-id-4 label.sk-toggleable__label {\n",
                            "  cursor: pointer;\n",
                            "  display: flex;\n",
                            "  width: 100%;\n",
                            "  margin-bottom: 0;\n",
                            "  padding: 0.5em;\n",
                            "  box-sizing: border-box;\n",
                            "  text-align: center;\n",
                            "  align-items: start;\n",
                            "  justify-content: space-between;\n",
                            "  gap: 0.5em;\n",
                            "}\n",
                            "\n",
                            "#sk-container-id-4 label.sk-toggleable__label .caption {\n",
                            "  font-size: 0.6rem;\n",
                            "  font-weight: lighter;\n",
                            "  color: var(--sklearn-color-text-muted);\n",
                            "}\n",
                            "\n",
                            "#sk-container-id-4 label.sk-toggleable__label-arrow:before {\n",
                            "  /* Arrow on the left of the label */\n",
                            "  content: \"▸\";\n",
                            "  float: left;\n",
                            "  margin-right: 0.25em;\n",
                            "  color: var(--sklearn-color-icon);\n",
                            "}\n",
                            "\n",
                            "#sk-container-id-4 label.sk-toggleable__label-arrow:hover:before {\n",
                            "  color: var(--sklearn-color-text);\n",
                            "}\n",
                            "\n",
                            "/* Toggleable content - dropdown */\n",
                            "\n",
                            "#sk-container-id-4 div.sk-toggleable__content {\n",
                            "  display: none;\n",
                            "  text-align: left;\n",
                            "  /* unfitted */\n",
                            "  background-color: var(--sklearn-color-unfitted-level-0);\n",
                            "}\n",
                            "\n",
                            "#sk-container-id-4 div.sk-toggleable__content.fitted {\n",
                            "  /* fitted */\n",
                            "  background-color: var(--sklearn-color-fitted-level-0);\n",
                            "}\n",
                            "\n",
                            "#sk-container-id-4 div.sk-toggleable__content pre {\n",
                            "  margin: 0.2em;\n",
                            "  border-radius: 0.25em;\n",
                            "  color: var(--sklearn-color-text);\n",
                            "  /* unfitted */\n",
                            "  background-color: var(--sklearn-color-unfitted-level-0);\n",
                            "}\n",
                            "\n",
                            "#sk-container-id-4 div.sk-toggleable__content.fitted pre {\n",
                            "  /* unfitted */\n",
                            "  background-color: var(--sklearn-color-fitted-level-0);\n",
                            "}\n",
                            "\n",
                            "#sk-container-id-4 input.sk-toggleable__control:checked~div.sk-toggleable__content {\n",
                            "  /* Expand drop-down */\n",
                            "  display: block;\n",
                            "  width: 100%;\n",
                            "  overflow: visible;\n",
                            "}\n",
                            "\n",
                            "#sk-container-id-4 input.sk-toggleable__control:checked~label.sk-toggleable__label-arrow:before {\n",
                            "  content: \"▾\";\n",
                            "}\n",
                            "\n",
                            "/* Pipeline/ColumnTransformer-specific style */\n",
                            "\n",
                            "#sk-container-id-4 div.sk-label input.sk-toggleable__control:checked~label.sk-toggleable__label {\n",
                            "  color: var(--sklearn-color-text);\n",
                            "  background-color: var(--sklearn-color-unfitted-level-2);\n",
                            "}\n",
                            "\n",
                            "#sk-container-id-4 div.sk-label.fitted input.sk-toggleable__control:checked~label.sk-toggleable__label {\n",
                            "  background-color: var(--sklearn-color-fitted-level-2);\n",
                            "}\n",
                            "\n",
                            "/* Estimator-specific style */\n",
                            "\n",
                            "/* Colorize estimator box */\n",
                            "#sk-container-id-4 div.sk-estimator input.sk-toggleable__control:checked~label.sk-toggleable__label {\n",
                            "  /* unfitted */\n",
                            "  background-color: var(--sklearn-color-unfitted-level-2);\n",
                            "}\n",
                            "\n",
                            "#sk-container-id-4 div.sk-estimator.fitted input.sk-toggleable__control:checked~label.sk-toggleable__label {\n",
                            "  /* fitted */\n",
                            "  background-color: var(--sklearn-color-fitted-level-2);\n",
                            "}\n",
                            "\n",
                            "#sk-container-id-4 div.sk-label label.sk-toggleable__label,\n",
                            "#sk-container-id-4 div.sk-label label {\n",
                            "  /* The background is the default theme color */\n",
                            "  color: var(--sklearn-color-text-on-default-background);\n",
                            "}\n",
                            "\n",
                            "/* On hover, darken the color of the background */\n",
                            "#sk-container-id-4 div.sk-label:hover label.sk-toggleable__label {\n",
                            "  color: var(--sklearn-color-text);\n",
                            "  background-color: var(--sklearn-color-unfitted-level-2);\n",
                            "}\n",
                            "\n",
                            "/* Label box, darken color on hover, fitted */\n",
                            "#sk-container-id-4 div.sk-label.fitted:hover label.sk-toggleable__label.fitted {\n",
                            "  color: var(--sklearn-color-text);\n",
                            "  background-color: var(--sklearn-color-fitted-level-2);\n",
                            "}\n",
                            "\n",
                            "/* Estimator label */\n",
                            "\n",
                            "#sk-container-id-4 div.sk-label label {\n",
                            "  font-family: monospace;\n",
                            "  font-weight: bold;\n",
                            "  display: inline-block;\n",
                            "  line-height: 1.2em;\n",
                            "}\n",
                            "\n",
                            "#sk-container-id-4 div.sk-label-container {\n",
                            "  text-align: center;\n",
                            "}\n",
                            "\n",
                            "/* Estimator-specific */\n",
                            "#sk-container-id-4 div.sk-estimator {\n",
                            "  font-family: monospace;\n",
                            "  border: 1px dotted var(--sklearn-color-border-box);\n",
                            "  border-radius: 0.25em;\n",
                            "  box-sizing: border-box;\n",
                            "  margin-bottom: 0.5em;\n",
                            "  /* unfitted */\n",
                            "  background-color: var(--sklearn-color-unfitted-level-0);\n",
                            "}\n",
                            "\n",
                            "#sk-container-id-4 div.sk-estimator.fitted {\n",
                            "  /* fitted */\n",
                            "  background-color: var(--sklearn-color-fitted-level-0);\n",
                            "}\n",
                            "\n",
                            "/* on hover */\n",
                            "#sk-container-id-4 div.sk-estimator:hover {\n",
                            "  /* unfitted */\n",
                            "  background-color: var(--sklearn-color-unfitted-level-2);\n",
                            "}\n",
                            "\n",
                            "#sk-container-id-4 div.sk-estimator.fitted:hover {\n",
                            "  /* fitted */\n",
                            "  background-color: var(--sklearn-color-fitted-level-2);\n",
                            "}\n",
                            "\n",
                            "/* Specification for estimator info (e.g. \"i\" and \"?\") */\n",
                            "\n",
                            "/* Common style for \"i\" and \"?\" */\n",
                            "\n",
                            ".sk-estimator-doc-link,\n",
                            "a:link.sk-estimator-doc-link,\n",
                            "a:visited.sk-estimator-doc-link {\n",
                            "  float: right;\n",
                            "  font-size: smaller;\n",
                            "  line-height: 1em;\n",
                            "  font-family: monospace;\n",
                            "  background-color: var(--sklearn-color-background);\n",
                            "  border-radius: 1em;\n",
                            "  height: 1em;\n",
                            "  width: 1em;\n",
                            "  text-decoration: none !important;\n",
                            "  margin-left: 0.5em;\n",
                            "  text-align: center;\n",
                            "  /* unfitted */\n",
                            "  border: var(--sklearn-color-unfitted-level-1) 1pt solid;\n",
                            "  color: var(--sklearn-color-unfitted-level-1);\n",
                            "}\n",
                            "\n",
                            ".sk-estimator-doc-link.fitted,\n",
                            "a:link.sk-estimator-doc-link.fitted,\n",
                            "a:visited.sk-estimator-doc-link.fitted {\n",
                            "  /* fitted */\n",
                            "  border: var(--sklearn-color-fitted-level-1) 1pt solid;\n",
                            "  color: var(--sklearn-color-fitted-level-1);\n",
                            "}\n",
                            "\n",
                            "/* On hover */\n",
                            "div.sk-estimator:hover .sk-estimator-doc-link:hover,\n",
                            ".sk-estimator-doc-link:hover,\n",
                            "div.sk-label-container:hover .sk-estimator-doc-link:hover,\n",
                            ".sk-estimator-doc-link:hover {\n",
                            "  /* unfitted */\n",
                            "  background-color: var(--sklearn-color-unfitted-level-3);\n",
                            "  color: var(--sklearn-color-background);\n",
                            "  text-decoration: none;\n",
                            "}\n",
                            "\n",
                            "div.sk-estimator.fitted:hover .sk-estimator-doc-link.fitted:hover,\n",
                            ".sk-estimator-doc-link.fitted:hover,\n",
                            "div.sk-label-container:hover .sk-estimator-doc-link.fitted:hover,\n",
                            ".sk-estimator-doc-link.fitted:hover {\n",
                            "  /* fitted */\n",
                            "  background-color: var(--sklearn-color-fitted-level-3);\n",
                            "  color: var(--sklearn-color-background);\n",
                            "  text-decoration: none;\n",
                            "}\n",
                            "\n",
                            "/* Span, style for the box shown on hovering the info icon */\n",
                            ".sk-estimator-doc-link span {\n",
                            "  display: none;\n",
                            "  z-index: 9999;\n",
                            "  position: relative;\n",
                            "  font-weight: normal;\n",
                            "  right: .2ex;\n",
                            "  padding: .5ex;\n",
                            "  margin: .5ex;\n",
                            "  width: min-content;\n",
                            "  min-width: 20ex;\n",
                            "  max-width: 50ex;\n",
                            "  color: var(--sklearn-color-text);\n",
                            "  box-shadow: 2pt 2pt 4pt #999;\n",
                            "  /* unfitted */\n",
                            "  background: var(--sklearn-color-unfitted-level-0);\n",
                            "  border: .5pt solid var(--sklearn-color-unfitted-level-3);\n",
                            "}\n",
                            "\n",
                            ".sk-estimator-doc-link.fitted span {\n",
                            "  /* fitted */\n",
                            "  background: var(--sklearn-color-fitted-level-0);\n",
                            "  border: var(--sklearn-color-fitted-level-3);\n",
                            "}\n",
                            "\n",
                            ".sk-estimator-doc-link:hover span {\n",
                            "  display: block;\n",
                            "}\n",
                            "\n",
                            "/* \"?\"-specific style due to the `<a>` HTML tag */\n",
                            "\n",
                            "#sk-container-id-4 a.estimator_doc_link {\n",
                            "  float: right;\n",
                            "  font-size: 1rem;\n",
                            "  line-height: 1em;\n",
                            "  font-family: monospace;\n",
                            "  background-color: var(--sklearn-color-background);\n",
                            "  border-radius: 1rem;\n",
                            "  height: 1rem;\n",
                            "  width: 1rem;\n",
                            "  text-decoration: none;\n",
                            "  /* unfitted */\n",
                            "  color: var(--sklearn-color-unfitted-level-1);\n",
                            "  border: var(--sklearn-color-unfitted-level-1) 1pt solid;\n",
                            "}\n",
                            "\n",
                            "#sk-container-id-4 a.estimator_doc_link.fitted {\n",
                            "  /* fitted */\n",
                            "  border: var(--sklearn-color-fitted-level-1) 1pt solid;\n",
                            "  color: var(--sklearn-color-fitted-level-1);\n",
                            "}\n",
                            "\n",
                            "/* On hover */\n",
                            "#sk-container-id-4 a.estimator_doc_link:hover {\n",
                            "  /* unfitted */\n",
                            "  background-color: var(--sklearn-color-unfitted-level-3);\n",
                            "  color: var(--sklearn-color-background);\n",
                            "  text-decoration: none;\n",
                            "}\n",
                            "\n",
                            "#sk-container-id-4 a.estimator_doc_link.fitted:hover {\n",
                            "  /* fitted */\n",
                            "  background-color: var(--sklearn-color-fitted-level-3);\n",
                            "}\n",
                            "\n",
                            ".estimator-table summary {\n",
                            "    padding: .5rem;\n",
                            "    font-family: monospace;\n",
                            "    cursor: pointer;\n",
                            "}\n",
                            "\n",
                            ".estimator-table details[open] {\n",
                            "    padding-left: 0.1rem;\n",
                            "    padding-right: 0.1rem;\n",
                            "    padding-bottom: 0.3rem;\n",
                            "}\n",
                            "\n",
                            ".estimator-table .parameters-table {\n",
                            "    margin-left: auto !important;\n",
                            "    margin-right: auto !important;\n",
                            "}\n",
                            "\n",
                            ".estimator-table .parameters-table tr:nth-child(odd) {\n",
                            "    background-color: #fff;\n",
                            "}\n",
                            "\n",
                            ".estimator-table .parameters-table tr:nth-child(even) {\n",
                            "    background-color: #f6f6f6;\n",
                            "}\n",
                            "\n",
                            ".estimator-table .parameters-table tr:hover {\n",
                            "    background-color: #e0e0e0;\n",
                            "}\n",
                            "\n",
                            ".estimator-table table td {\n",
                            "    border: 1px solid rgba(106, 105, 104, 0.232);\n",
                            "}\n",
                            "\n",
                            ".user-set td {\n",
                            "    color:rgb(255, 94, 0);\n",
                            "    text-align: left;\n",
                            "}\n",
                            "\n",
                            ".user-set td.value pre {\n",
                            "    color:rgb(255, 94, 0) !important;\n",
                            "    background-color: transparent !important;\n",
                            "}\n",
                            "\n",
                            ".default td {\n",
                            "    color: black;\n",
                            "    text-align: left;\n",
                            "}\n",
                            "\n",
                            ".user-set td i,\n",
                            ".default td i {\n",
                            "    color: black;\n",
                            "}\n",
                            "\n",
                            ".copy-paste-icon {\n",
                            "    background-image: url(data:image/svg+xml;base64,PHN2ZyB4bWxucz0iaHR0cDovL3d3dy53My5vcmcvMjAwMC9zdmciIHZpZXdCb3g9IjAgMCA0NDggNTEyIj48IS0tIUZvbnQgQXdlc29tZSBGcmVlIDYuNy4yIGJ5IEBmb250YXdlc29tZSAtIGh0dHBzOi8vZm9udGF3ZXNvbWUuY29tIExpY2Vuc2UgLSBodHRwczovL2ZvbnRhd2Vzb21lLmNvbS9saWNlbnNlL2ZyZWUgQ29weXJpZ2h0IDIwMjUgRm9udGljb25zLCBJbmMuLS0+PHBhdGggZD0iTTIwOCAwTDMzMi4xIDBjMTIuNyAwIDI0LjkgNS4xIDMzLjkgMTQuMWw2Ny45IDY3LjljOSA5IDE0LjEgMjEuMiAxNC4xIDMzLjlMNDQ4IDMzNmMwIDI2LjUtMjEuNSA0OC00OCA0OGwtMTkyIDBjLTI2LjUgMC00OC0yMS41LTQ4LTQ4bDAtMjg4YzAtMjYuNSAyMS41LTQ4IDQ4LTQ4ek00OCAxMjhsODAgMCAwIDY0LTY0IDAgMCAyNTYgMTkyIDAgMC0zMiA2NCAwIDAgNDhjMCAyNi41LTIxLjUgNDgtNDggNDhMNDggNTEyYy0yNi41IDAtNDgtMjEuNS00OC00OEwwIDE3NmMwLTI2LjUgMjEuNS00OCA0OC00OHoiLz48L3N2Zz4=);\n",
                            "    background-repeat: no-repeat;\n",
                            "    background-size: 14px 14px;\n",
                            "    background-position: 0;\n",
                            "    display: inline-block;\n",
                            "    width: 14px;\n",
                            "    height: 14px;\n",
                            "    cursor: pointer;\n",
                            "}\n",
                            "</style><body><div id=\"sk-container-id-4\" class=\"sk-top-container\"><div class=\"sk-text-repr-fallback\"><pre>GridSearchCV(cv=5, estimator=MultinomialNB(), n_jobs=-1,\n",
                            "             param_grid={&#x27;alpha&#x27;: [0.1, 0.5, 1.0, 2.0, 5.0],\n",
                            "                         &#x27;fit_prior&#x27;: [True, False]},\n",
                            "             scoring=&#x27;accuracy&#x27;, verbose=2)</pre><b>In a Jupyter environment, please rerun this cell to show the HTML representation or trust the notebook. <br />On GitHub, the HTML representation is unable to render, please try loading this page with nbviewer.org.</b></div><div class=\"sk-container\" hidden><div class=\"sk-item sk-dashed-wrapped\"><div class=\"sk-label-container\"><div class=\"sk-label fitted sk-toggleable\"><input class=\"sk-toggleable__control sk-hidden--visually\" id=\"sk-estimator-id-10\" type=\"checkbox\" ><label for=\"sk-estimator-id-10\" class=\"sk-toggleable__label fitted sk-toggleable__label-arrow\"><div><div>GridSearchCV</div></div><div><a class=\"sk-estimator-doc-link fitted\" rel=\"noreferrer\" target=\"_blank\" href=\"https://scikit-learn.org/1.7/modules/generated/sklearn.model_selection.GridSearchCV.html\">?<span>Documentation for GridSearchCV</span></a><span class=\"sk-estimator-doc-link fitted\">i<span>Fitted</span></span></div></label><div class=\"sk-toggleable__content fitted\" data-param-prefix=\"\">\n",
                            "        <div class=\"estimator-table\">\n",
                            "            <details>\n",
                            "                <summary>Parameters</summary>\n",
                            "                <table class=\"parameters-table\">\n",
                            "                  <tbody>\n",
                            "                    \n",
                            "        <tr class=\"user-set\">\n",
                            "            <td><i class=\"copy-paste-icon\"\n",
                            "                 onclick=\"copyToClipboard('estimator',\n",
                            "                          this.parentElement.nextElementSibling)\"\n",
                            "            ></i></td>\n",
                            "            <td class=\"param\">estimator&nbsp;</td>\n",
                            "            <td class=\"value\">MultinomialNB()</td>\n",
                            "        </tr>\n",
                            "    \n",
                            "\n",
                            "        <tr class=\"user-set\">\n",
                            "            <td><i class=\"copy-paste-icon\"\n",
                            "                 onclick=\"copyToClipboard('param_grid',\n",
                            "                          this.parentElement.nextElementSibling)\"\n",
                            "            ></i></td>\n",
                            "            <td class=\"param\">param_grid&nbsp;</td>\n",
                            "            <td class=\"value\">{&#x27;alpha&#x27;: [0.1, 0.5, ...], &#x27;fit_prior&#x27;: [True, False]}</td>\n",
                            "        </tr>\n",
                            "    \n",
                            "\n",
                            "        <tr class=\"user-set\">\n",
                            "            <td><i class=\"copy-paste-icon\"\n",
                            "                 onclick=\"copyToClipboard('scoring',\n",
                            "                          this.parentElement.nextElementSibling)\"\n",
                            "            ></i></td>\n",
                            "            <td class=\"param\">scoring&nbsp;</td>\n",
                            "            <td class=\"value\">&#x27;accuracy&#x27;</td>\n",
                            "        </tr>\n",
                            "    \n",
                            "\n",
                            "        <tr class=\"user-set\">\n",
                            "            <td><i class=\"copy-paste-icon\"\n",
                            "                 onclick=\"copyToClipboard('n_jobs',\n",
                            "                          this.parentElement.nextElementSibling)\"\n",
                            "            ></i></td>\n",
                            "            <td class=\"param\">n_jobs&nbsp;</td>\n",
                            "            <td class=\"value\">-1</td>\n",
                            "        </tr>\n",
                            "    \n",
                            "\n",
                            "        <tr class=\"default\">\n",
                            "            <td><i class=\"copy-paste-icon\"\n",
                            "                 onclick=\"copyToClipboard('refit',\n",
                            "                          this.parentElement.nextElementSibling)\"\n",
                            "            ></i></td>\n",
                            "            <td class=\"param\">refit&nbsp;</td>\n",
                            "            <td class=\"value\">True</td>\n",
                            "        </tr>\n",
                            "    \n",
                            "\n",
                            "        <tr class=\"user-set\">\n",
                            "            <td><i class=\"copy-paste-icon\"\n",
                            "                 onclick=\"copyToClipboard('cv',\n",
                            "                          this.parentElement.nextElementSibling)\"\n",
                            "            ></i></td>\n",
                            "            <td class=\"param\">cv&nbsp;</td>\n",
                            "            <td class=\"value\">5</td>\n",
                            "        </tr>\n",
                            "    \n",
                            "\n",
                            "        <tr class=\"user-set\">\n",
                            "            <td><i class=\"copy-paste-icon\"\n",
                            "                 onclick=\"copyToClipboard('verbose',\n",
                            "                          this.parentElement.nextElementSibling)\"\n",
                            "            ></i></td>\n",
                            "            <td class=\"param\">verbose&nbsp;</td>\n",
                            "            <td class=\"value\">2</td>\n",
                            "        </tr>\n",
                            "    \n",
                            "\n",
                            "        <tr class=\"default\">\n",
                            "            <td><i class=\"copy-paste-icon\"\n",
                            "                 onclick=\"copyToClipboard('pre_dispatch',\n",
                            "                          this.parentElement.nextElementSibling)\"\n",
                            "            ></i></td>\n",
                            "            <td class=\"param\">pre_dispatch&nbsp;</td>\n",
                            "            <td class=\"value\">&#x27;2*n_jobs&#x27;</td>\n",
                            "        </tr>\n",
                            "    \n",
                            "\n",
                            "        <tr class=\"default\">\n",
                            "            <td><i class=\"copy-paste-icon\"\n",
                            "                 onclick=\"copyToClipboard('error_score',\n",
                            "                          this.parentElement.nextElementSibling)\"\n",
                            "            ></i></td>\n",
                            "            <td class=\"param\">error_score&nbsp;</td>\n",
                            "            <td class=\"value\">nan</td>\n",
                            "        </tr>\n",
                            "    \n",
                            "\n",
                            "        <tr class=\"default\">\n",
                            "            <td><i class=\"copy-paste-icon\"\n",
                            "                 onclick=\"copyToClipboard('return_train_score',\n",
                            "                          this.parentElement.nextElementSibling)\"\n",
                            "            ></i></td>\n",
                            "            <td class=\"param\">return_train_score&nbsp;</td>\n",
                            "            <td class=\"value\">False</td>\n",
                            "        </tr>\n",
                            "    \n",
                            "                  </tbody>\n",
                            "                </table>\n",
                            "            </details>\n",
                            "        </div>\n",
                            "    </div></div></div><div class=\"sk-parallel\"><div class=\"sk-parallel-item\"><div class=\"sk-item\"><div class=\"sk-label-container\"><div class=\"sk-label fitted sk-toggleable\"><input class=\"sk-toggleable__control sk-hidden--visually\" id=\"sk-estimator-id-11\" type=\"checkbox\" ><label for=\"sk-estimator-id-11\" class=\"sk-toggleable__label fitted sk-toggleable__label-arrow\"><div><div>best_estimator_: MultinomialNB</div></div></label><div class=\"sk-toggleable__content fitted\" data-param-prefix=\"best_estimator___\"><pre>MultinomialNB(alpha=2.0, fit_prior=False)</pre></div></div></div><div class=\"sk-serial\"><div class=\"sk-item\"><div class=\"sk-estimator fitted sk-toggleable\"><input class=\"sk-toggleable__control sk-hidden--visually\" id=\"sk-estimator-id-12\" type=\"checkbox\" ><label for=\"sk-estimator-id-12\" class=\"sk-toggleable__label fitted sk-toggleable__label-arrow\"><div><div>MultinomialNB</div></div><div><a class=\"sk-estimator-doc-link fitted\" rel=\"noreferrer\" target=\"_blank\" href=\"https://scikit-learn.org/1.7/modules/generated/sklearn.naive_bayes.MultinomialNB.html\">?<span>Documentation for MultinomialNB</span></a></div></label><div class=\"sk-toggleable__content fitted\" data-param-prefix=\"best_estimator___\">\n",
                            "        <div class=\"estimator-table\">\n",
                            "            <details>\n",
                            "                <summary>Parameters</summary>\n",
                            "                <table class=\"parameters-table\">\n",
                            "                  <tbody>\n",
                            "                    \n",
                            "        <tr class=\"user-set\">\n",
                            "            <td><i class=\"copy-paste-icon\"\n",
                            "                 onclick=\"copyToClipboard('alpha',\n",
                            "                          this.parentElement.nextElementSibling)\"\n",
                            "            ></i></td>\n",
                            "            <td class=\"param\">alpha&nbsp;</td>\n",
                            "            <td class=\"value\">2.0</td>\n",
                            "        </tr>\n",
                            "    \n",
                            "\n",
                            "        <tr class=\"default\">\n",
                            "            <td><i class=\"copy-paste-icon\"\n",
                            "                 onclick=\"copyToClipboard('force_alpha',\n",
                            "                          this.parentElement.nextElementSibling)\"\n",
                            "            ></i></td>\n",
                            "            <td class=\"param\">force_alpha&nbsp;</td>\n",
                            "            <td class=\"value\">True</td>\n",
                            "        </tr>\n",
                            "    \n",
                            "\n",
                            "        <tr class=\"user-set\">\n",
                            "            <td><i class=\"copy-paste-icon\"\n",
                            "                 onclick=\"copyToClipboard('fit_prior',\n",
                            "                          this.parentElement.nextElementSibling)\"\n",
                            "            ></i></td>\n",
                            "            <td class=\"param\">fit_prior&nbsp;</td>\n",
                            "            <td class=\"value\">False</td>\n",
                            "        </tr>\n",
                            "    \n",
                            "\n",
                            "        <tr class=\"default\">\n",
                            "            <td><i class=\"copy-paste-icon\"\n",
                            "                 onclick=\"copyToClipboard('class_prior',\n",
                            "                          this.parentElement.nextElementSibling)\"\n",
                            "            ></i></td>\n",
                            "            <td class=\"param\">class_prior&nbsp;</td>\n",
                            "            <td class=\"value\">None</td>\n",
                            "        </tr>\n",
                            "    \n",
                            "                  </tbody>\n",
                            "                </table>\n",
                            "            </details>\n",
                            "        </div>\n",
                            "    </div></div></div></div></div></div></div></div></div></div><script>function copyToClipboard(text, element) {\n",
                            "    // Get the parameter prefix from the closest toggleable content\n",
                            "    const toggleableContent = element.closest('.sk-toggleable__content');\n",
                            "    const paramPrefix = toggleableContent ? toggleableContent.dataset.paramPrefix : '';\n",
                            "    const fullParamName = paramPrefix ? `${paramPrefix}${text}` : text;\n",
                            "\n",
                            "    const originalStyle = element.style;\n",
                            "    const computedStyle = window.getComputedStyle(element);\n",
                            "    const originalWidth = computedStyle.width;\n",
                            "    const originalHTML = element.innerHTML.replace('Copied!', '');\n",
                            "\n",
                            "    navigator.clipboard.writeText(fullParamName)\n",
                            "        .then(() => {\n",
                            "            element.style.width = originalWidth;\n",
                            "            element.style.color = 'green';\n",
                            "            element.innerHTML = \"Copied!\";\n",
                            "\n",
                            "            setTimeout(() => {\n",
                            "                element.innerHTML = originalHTML;\n",
                            "                element.style = originalStyle;\n",
                            "            }, 2000);\n",
                            "        })\n",
                            "        .catch(err => {\n",
                            "            console.error('Failed to copy:', err);\n",
                            "            element.style.color = 'red';\n",
                            "            element.innerHTML = \"Failed!\";\n",
                            "            setTimeout(() => {\n",
                            "                element.innerHTML = originalHTML;\n",
                            "                element.style = originalStyle;\n",
                            "            }, 2000);\n",
                            "        });\n",
                            "    return false;\n",
                            "}\n",
                            "\n",
                            "document.querySelectorAll('.fa-regular.fa-copy').forEach(function(element) {\n",
                            "    const toggleableContent = element.closest('.sk-toggleable__content');\n",
                            "    const paramPrefix = toggleableContent ? toggleableContent.dataset.paramPrefix : '';\n",
                            "    const paramName = element.parentElement.nextElementSibling.textContent.trim();\n",
                            "    const fullParamName = paramPrefix ? `${paramPrefix}${paramName}` : paramName;\n",
                            "\n",
                            "    element.setAttribute('title', fullParamName);\n",
                            "});\n",
                            "</script></body>"
                        ],
                        "text/plain": [
                            "GridSearchCV(cv=5, estimator=MultinomialNB(), n_jobs=-1,\n",
                            "             param_grid={'alpha': [0.1, 0.5, 1.0, 2.0, 5.0],\n",
                            "                         'fit_prior': [True, False]},\n",
                            "             scoring='accuracy', verbose=2)"
                        ]
                    },
                    "execution_count": 62,
                    "metadata": {},
                    "output_type": "execute_result"
                }
            ],
            "source": [
                "grid_search.fit(x_train_vec, y_train)"
            ]
        },
        {
            "cell_type": "markdown",
            "metadata": {},
            "source": [
                "Taking into account the results provided by GridSearch, we adjusted our parameters to: fit_prior = False and alpha = 2.0 in order to improve the model’s accuracy."
            ]
        },
        {
            "cell_type": "code",
            "execution_count": 68,
            "metadata": {},
            "outputs": [
                {
                    "name": "stdout",
                    "output_type": "stream",
                    "text": [
                        "Train accuracy: [0.9480337078651685]\n"
                    ]
                }
            ],
            "source": [
                "from sklearn.naive_bayes import MultinomialNB\n",
                "from sklearn.metrics import accuracy_score\n",
                "from pickle import dump\n",
                "\n",
                "accuracy_results = []\n",
                "\n",
                "model = MultinomialNB(\n",
                "    alpha=2.0,\n",
                "    fit_prior=False,\n",
                ")\n",
                "\n",
                "model.fit(x_train_vec, y_train)\n",
                "y_pred = model.predict(x_train_vec)\n",
                "\n",
                "accuracy = accuracy_score(y_train, y_pred)\n",
                "accuracy_results.append(accuracy_score(y_train, y_pred))\n",
                "\n",
                "print(\"Train accuracy:\", accuracy_results)"
            ]
        },
        {
            "cell_type": "code",
            "execution_count": 69,
            "metadata": {},
            "outputs": [
                {
                    "name": "stdout",
                    "output_type": "stream",
                    "text": [
                        "Test accuracy: 0.8324022346368715\n"
                    ]
                }
            ],
            "source": [
                "model = MultinomialNB(\n",
                "    alpha=2.0,\n",
                "    fit_prior=True,\n",
                ")\n",
                "model.fit(x_train_vec, y_train)\n",
                "y_pred_test = model.predict(x_test_vec)\n",
                "\n",
                "accuracy = accuracy_score(y_test, y_pred_test)\n",
                "print(\"Test accuracy:\", accuracy)"
            ]
        },
        {
            "cell_type": "markdown",
            "metadata": {},
            "source": [
                "After using GridSearch to optimise the model by adjusting the parameters, the training accuracy dropped by almost 2%, while the test accuracy improved by nearly 2%."
            ]
        },
        {
            "cell_type": "markdown",
            "metadata": {},
            "source": [
                "**SAVING THE MODEL**:"
            ]
        },
        {
            "cell_type": "code",
            "execution_count": 70,
            "metadata": {},
            "outputs": [],
            "source": [
                "dump(model, open(\"/workspaces/E-Pablos-Naive-Bayes-Reviews/models/naive_bayes__GridSearch_a2_fp_true.sav\", \"wb\"))"
            ]
        },
        {
            "cell_type": "markdown",
            "metadata": {},
            "source": [
                "-----"
            ]
        },
        {
            "cell_type": "markdown",
            "metadata": {},
            "source": [
                "We use a **RandomizedSearch** to opmise the previous model, with MultinomialNB."
            ]
        },
        {
            "cell_type": "code",
            "execution_count": 73,
            "metadata": {},
            "outputs": [
                {
                    "name": "stdout",
                    "output_type": "stream",
                    "text": [
                        "Fitting 5 folds for each of 10 candidates, totalling 50 fits\n",
                        "[CV] END ..........................alpha=0.1, fit_prior=True; total time=   0.0s\n",
                        "[CV] END ..........................alpha=0.1, fit_prior=True; total time=   0.0s\n",
                        "[CV] END ..........................alpha=0.1, fit_prior=True; total time=   0.0s\n",
                        "[CV] END ..........................alpha=0.1, fit_prior=True; total time=   0.0s\n",
                        "[CV] END ..........................alpha=0.1, fit_prior=True; total time=   0.0s\n",
                        "[CV] END .........................alpha=0.1, fit_prior=False; total time=   0.0s\n",
                        "[CV] END .........................alpha=0.1, fit_prior=False; total time=   0.0s\n",
                        "[CV] END .........................alpha=0.1, fit_prior=False; total time=   0.0s\n",
                        "[CV] END .........................alpha=0.1, fit_prior=False; total time=   0.0s\n",
                        "[CV] END ..........................alpha=0.5, fit_prior=True; total time=   0.0s\n",
                        "[CV] END .........................alpha=0.1, fit_prior=False; total time=   0.0s\n",
                        "[CV] END ..........................alpha=0.5, fit_prior=True; total time=   0.0s\n",
                        "[CV] END ..........................alpha=0.5, fit_prior=True; total time=   0.0s\n",
                        "[CV] END .........................alpha=0.5, fit_prior=False; total time=   0.0s\n",
                        "[CV] END ..........................alpha=0.5, fit_prior=True; total time=   0.0s\n",
                        "[CV] END .........................alpha=0.5, fit_prior=False; total time=   0.0s\n",
                        "[CV] END ..........................alpha=0.5, fit_prior=True; total time=   0.0s\n",
                        "[CV] END .........................alpha=0.5, fit_prior=False; total time=   0.0s\n",
                        "[CV] END .........................alpha=0.5, fit_prior=False; total time=   0.0s\n",
                        "[CV] END ..........................alpha=1.0, fit_prior=True; total time=   0.0s\n",
                        "[CV] END .........................alpha=0.5, fit_prior=False; total time=   0.0s\n",
                        "[CV] END ..........................alpha=1.0, fit_prior=True; total time=   0.0s\n",
                        "[CV] END ..........................alpha=1.0, fit_prior=True; total time=   0.0s\n",
                        "[CV] END ..........................alpha=1.0, fit_prior=True; total time=   0.0s\n",
                        "[CV] END .........................alpha=1.0, fit_prior=False; total time=   0.0s\n",
                        "[CV] END ..........................alpha=1.0, fit_prior=True; total time=   0.0s\n",
                        "[CV] END .........................alpha=1.0, fit_prior=False; total time=   0.0s\n",
                        "[CV] END .........................alpha=1.0, fit_prior=False; total time=   0.0s[CV] END .........................alpha=1.0, fit_prior=False; total time=   0.0s\n",
                        "\n",
                        "[CV] END .........................alpha=1.0, fit_prior=False; total time=   0.0s\n",
                        "[CV] END .........................alpha=2.0, fit_prior=False; total time=   0.0s\n",
                        "[CV] END ..........................alpha=2.0, fit_prior=True; total time=   0.0s\n",
                        "[CV] END .........................alpha=2.0, fit_prior=False; total time=   0.0s\n",
                        "[CV] END ..........................alpha=2.0, fit_prior=True; total time=   0.0s\n",
                        "[CV] END .........................alpha=2.0, fit_prior=False; total time=   0.0s\n",
                        "[CV] END ..........................alpha=2.0, fit_prior=True; total time=   0.0s\n",
                        "[CV] END .........................alpha=2.0, fit_prior=False; total time=   0.0s\n",
                        "[CV] END ..........................alpha=2.0, fit_prior=True; total time=   0.0s\n",
                        "[CV] END ..........................alpha=5.0, fit_prior=True; total time=   0.0s\n",
                        "[CV] END ..........................alpha=2.0, fit_prior=True; total time=   0.0s\n",
                        "[CV] END ..........................alpha=5.0, fit_prior=True; total time=   0.0s\n",
                        "[CV] END .........................alpha=2.0, fit_prior=False; total time=   0.0s\n",
                        "[CV] END ..........................alpha=5.0, fit_prior=True; total time=   0.0s\n",
                        "[CV] END ..........................alpha=5.0, fit_prior=True; total time=   0.0s\n",
                        "[CV] END ..........................alpha=5.0, fit_prior=True; total time=   0.0s\n",
                        "[CV] END .........................alpha=5.0, fit_prior=False; total time=   0.0s\n",
                        "[CV] END .........................alpha=5.0, fit_prior=False; total time=   0.0s\n",
                        "[CV] END .........................alpha=5.0, fit_prior=False; total time=   0.0s\n",
                        "[CV] END .........................alpha=5.0, fit_prior=False; total time=   0.0s\n",
                        "[CV] END .........................alpha=5.0, fit_prior=False; total time=   0.0s\n",
                        "Best hyperparams:\n",
                        "{'fit_prior': False, 'alpha': 2.0}\n",
                        "Best accuracy found in random search:\n",
                        "0.8201812272234807\n",
                        "Test accuracy: 0.8212290502793296\n"
                    ]
                }
            ],
            "source": [
                "from sklearn.model_selection import RandomizedSearchCV\n",
                "\n",
                "\n",
                "model = MultinomialNB(\n",
                "    alpha=1.0,\n",
                "    fit_prior=True,\n",
                ")\n",
                "\n",
                "param_distributions = {\n",
                "    'alpha': [0.1, 0.5, 1.0, 2.0, 5.0],\n",
                "    'fit_prior': [True, False]\n",
                "}\n",
                "\n",
                "random_search = RandomizedSearchCV(\n",
                "    estimator=model,\n",
                "    param_distributions=param_distributions,\n",
                "    scoring='accuracy',     \n",
                "    cv=5,                   \n",
                "    n_jobs=-1,              \n",
                "    verbose=2               \n",
                ")\n",
                "\n",
                "random_search.fit(x_train_vec, y_train)\n",
                "\n",
                "print(\"Best hyperparams:\")\n",
                "print(random_search.best_params_)\n",
                "\n",
                "print(\"Best accuracy found in random search:\")\n",
                "print(random_search.best_score_)\n",
                "\n",
                "mejor_modelo = random_search.best_estimator_\n",
                "y_pred = mejor_modelo.predict(x_test_vec)\n",
                "print(\"Test accuracy:\", accuracy_score(y_test, y_pred))"
            ]
        },
        {
            "cell_type": "markdown",
            "metadata": {},
            "source": [
                "As a strategy to improve the model, we also applied Randomised Search. However, the results were not as good as those obtained with Grid Search. Both the training and test accuracy reached only 82%. In the case of the training accuracy, this is 12.5% lower than the optimisation achieved with Grid Search."
            ]
        },
        {
            "cell_type": "markdown",
            "metadata": {},
            "source": [
                "## 6. Explore other alternatives"
            ]
        },
        {
            "cell_type": "markdown",
            "metadata": {},
            "source": [
                "**Random Tree**:"
            ]
        },
        {
            "cell_type": "code",
            "execution_count": 74,
            "metadata": {},
            "outputs": [
                {
                    "name": "stdout",
                    "output_type": "stream",
                    "text": [
                        "Accuracy: [0.7514044943820225]\n"
                    ]
                }
            ],
            "source": [
                "from sklearn.tree import DecisionTreeClassifier\n",
                "from sklearn.metrics import accuracy_score\n",
                "\n",
                "accuracy_results = []\n",
                "\n",
                "model = DecisionTreeClassifier(\n",
                "    max_depth=5,\n",
                "    min_samples_split=10,\n",
                "    min_samples_leaf=5,\n",
                "    criterion=\"entropy\",\n",
                "    max_features=None,\n",
                "    random_state=42\n",
                ")\n",
                "\n",
                "model.fit(x_train_vec, y_train)\n",
                "y_pred = model.predict(x_train_vec)\n",
                "accuracy = accuracy_score(y_train, y_pred)\n",
                "accuracy_results.append(accuracy_score(y_train, y_pred))\n",
                "\n",
                "print(\"Accuracy:\", accuracy_results)"
            ]
        },
        {
            "cell_type": "markdown",
            "metadata": {},
            "source": [
                "We applied the Random Tree model in an attempt to outperform the Naive Bayes model; however, the training accuracy was only 75.1%, almost 20% lower than the optimised Naive Bayes model."
            ]
        }
    ],
    "metadata": {
        "kernelspec": {
            "display_name": "Python 3",
            "language": "python",
            "name": "python3"
        },
        "language_info": {
            "codemirror_mode": {
                "name": "ipython",
                "version": 3
            },
            "file_extension": ".py",
            "mimetype": "text/x-python",
            "name": "python",
            "nbconvert_exporter": "python",
            "pygments_lexer": "ipython3",
            "version": "3.11.4"
        },
        "orig_nbformat": 4
    },
    "nbformat": 4,
    "nbformat_minor": 2
}
